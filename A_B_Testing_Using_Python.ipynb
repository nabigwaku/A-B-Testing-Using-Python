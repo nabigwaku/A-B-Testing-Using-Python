{
  "nbformat": 4,
  "nbformat_minor": 0,
  "metadata": {
    "colab": {
      "provenance": [],
      "authorship_tag": "ABX9TyOO0HzAFP8Zdfv03WGJgSZg",
      "include_colab_link": true
    },
    "kernelspec": {
      "name": "python3",
      "display_name": "Python 3"
    },
    "language_info": {
      "name": "python"
    }
  },
  "cells": [
    {
      "cell_type": "markdown",
      "metadata": {
        "id": "view-in-github",
        "colab_type": "text"
      },
      "source": [
        "<a href=\"https://colab.research.google.com/github/nabigwaku/AB-Testing-Using-Python/blob/master/A_B_Testing_Using_Python.ipynb\" target=\"_parent\"><img src=\"https://colab.research.google.com/assets/colab-badge.svg\" alt=\"Open In Colab\"/></a>"
      ]
    },
    {
      "cell_type": "markdown",
      "source": [
        "# Introduction\n",
        "\n",
        "A/B Testing is a randomized controlled experiment where two versions (A and B) of a system are tested against each other to understand which one performs better. The goal is to compare different variants and assess their impact on key metrics. Its crucial for optimizing website features, marketing strategies, and product enhancements in product management. Used by businesses to improve user experience, increase conversion rates, and boost Return On Investement. By testing small changes, businesses can ensure that every decision is backed by data, reducing the risk of negative impacts."
      ],
      "metadata": {
        "id": "P8ufcXYE8skE"
      }
    },
    {
      "cell_type": "markdown",
      "source": [
        "# How it works"
      ],
      "metadata": {
        "id": "P5VQztHp-0jt"
      }
    },
    {
      "cell_type": "markdown",
      "source": [
        "## A/B Testing Process\n",
        "\n",
        "**Step 1: Define the Hypothesis** e.g: Changing the color of the 'Sign Up' button from blue to green will increase the conversion rate.\n",
        "\n",
        "**Step 2: Divide the Users into Groups:** Randomly assign users to either the control (A) or test (B) group. The control group experiences the original version, while the test group interacts with the modified version.\n",
        "\n",
        "**Step 3: Measure Metrics**:e.g Conversion rate, click-through rate, user engagement, etc. Collect the data needed to compare the performance of both versions.\n",
        "\n",
        "**Step 4: Analyze the Results**: Perform a statistical test (e.g t-test, Z-test) to determine if the differences between the two groups are statistically significant."
      ],
      "metadata": {
        "id": "29hXkRdDGc0N"
      }
    },
    {
      "cell_type": "markdown",
      "source": [
        "## Statistical Significance in A/B Testing\n",
        "Note:: This tells us if the results of an A/B test are likely due to the change you made, or if they happened by chance.\n",
        "\n",
        "* Null Hypothesis (H0): There is no difference between the control and test groups.\n",
        "* Alternative Hypothesis (H1): There is a significant difference between the two groups.\n",
        "* We use statistical tests (like t-tests) to test these hypotheses and if the p-value is less than 0.05, we reject the null hypothesis and conclude that the new variant has a statistically significant impact."
      ],
      "metadata": {
        "id": "174AUYy0Gn9W"
      }
    },
    {
      "cell_type": "markdown",
      "source": [
        "# Applications:\n",
        "* **Website Optimization:** Testing changes to design, content, or layout to improve user experience. Metrics to monitor:: Conversion rate, bounce rate, time on site, click-through rate (CTR)\n",
        "* **Email Marketing**: Testing subject lines, content, or CTA buttons to boost open or click-through, unsubscribe rate\n",
        "* **Advertising**: Comparing ad creatives, targeting strategies, or bid amounts to maximize return on investment. Metrics to Monitor: Click-through rate (CTR), cost per acquisition (CPA), return on investment (ROI), conversion rate.\n",
        "* **Product Features**: Testing new features or changes to user interfaces to gauge user engagement, customer satisfaction, user retention and feature adoption rate\n",
        "* **Machine learning**: Can be used to evaluate model performance by comparing different algorithms, hyperparameters, or feature engineering methods. It helps identify which model or configuration produces the best results, like higher accuracy or lower error."
      ],
      "metadata": {
        "id": "fUiCqQOcB1qX"
      }
    },
    {
      "cell_type": "markdown",
      "source": [
        "# Conducting A/B Test Analysis:\n",
        "##  Conversion Comparison Between Old and New Pages\n",
        "\n",
        "This A/B test analyzes user interactions on two web pages to evaluate the impact of a new page design. The Null Hypothesis (H₀) assumes no difference in conversion rates between users who see the old page (control group) and those who see the new page (treatment or test group). The Alternative Hypothesis (H₁) assumes a difference in conversion rates, suggesting that the new design may influence conversions.\n",
        "\n",
        "**Data Status**: At this stage, Control and treatment groups have been assigned, hypotheses are set, and data collection is complete. Users have interacted with their respective pages, and conversions (yes or no) have been recorded. Now, we focus on analyzing this data to determine if the new page significantly affects conversion rates compared to the old page.\n",
        "\n",
        "**Data Columns**:\n",
        "\n",
        "* **user_id**: Unique ID for each user.\n",
        "* **timestamp**: Visit time.\n",
        "* **group**: Control or treatment group.\n",
        "* **landing_page**: Page visited (old or new).\n",
        "* **converted**: Conversion status (1 = converted, 0 = not converted).\n"
      ],
      "metadata": {
        "id": "EOEXs1ONG6eW"
      }
    },
    {
      "cell_type": "markdown",
      "source": [
        "## Importing Libraries"
      ],
      "metadata": {
        "id": "ZUQnKnyvHHQ1"
      }
    },
    {
      "cell_type": "code",
      "source": [
        "import pandas as pd  # Data manipulation and analysis\n",
        "import numpy as np  # Numerical operations\n",
        "import matplotlib.pyplot as plt  # Visualization\n",
        "import seaborn as sns  # Statistical visualizations\n",
        "import scipy.stats as stats  # Statistical functions for hypothesis testing\n",
        "import statsmodels.stats.api as sms  # Statistical modeling\n",
        "from statsmodels.stats.proportion import proportions_ztest  # Z-test for proportions\n",
        "sns.set(style=\"whitegrid\")\n",
        "\n",
        "import warnings\n",
        "warnings.filterwarnings(\"ignore\")\n",
        "\n"
      ],
      "metadata": {
        "id": "KTx6VI3mHLeQ"
      },
      "execution_count": null,
      "outputs": []
    },
    {
      "cell_type": "markdown",
      "source": [
        "## Reading, Cleaning &  Exploring the data"
      ],
      "metadata": {
        "id": "EVDXy5-hKMjP"
      }
    },
    {
      "cell_type": "markdown",
      "source": [
        "### Reading Data"
      ],
      "metadata": {
        "id": "KSu8PXTSRoIV"
      }
    },
    {
      "cell_type": "code",
      "source": [
        "data = pd.read_csv('/content/ab_data.csv')\n",
        "data.head()"
      ],
      "metadata": {
        "colab": {
          "base_uri": "https://localhost:8080/",
          "height": 206
        },
        "id": "C_r44AvrKTen",
        "outputId": "c4ceaeb2-7329-4991-ff61-beea9ebe64f2"
      },
      "execution_count": null,
      "outputs": [
        {
          "output_type": "execute_result",
          "data": {
            "text/plain": [
              "   user_id                   timestamp      group landing_page  converted\n",
              "0   851104  2017-01-21 22:11:48.556739    control     old_page          0\n",
              "1   804228  2017-01-12 08:01:45.159739    control     old_page          0\n",
              "2   661590  2017-01-11 16:55:06.154213  treatment     new_page          0\n",
              "3   853541  2017-01-08 18:28:03.143765  treatment     new_page          0\n",
              "4   864975  2017-01-21 01:52:26.210827    control     old_page          1"
            ],
            "text/html": [
              "\n",
              "  <div id=\"df-ee098206-89c3-47e5-a4e5-0eabfa907962\" class=\"colab-df-container\">\n",
              "    <div>\n",
              "<style scoped>\n",
              "    .dataframe tbody tr th:only-of-type {\n",
              "        vertical-align: middle;\n",
              "    }\n",
              "\n",
              "    .dataframe tbody tr th {\n",
              "        vertical-align: top;\n",
              "    }\n",
              "\n",
              "    .dataframe thead th {\n",
              "        text-align: right;\n",
              "    }\n",
              "</style>\n",
              "<table border=\"1\" class=\"dataframe\">\n",
              "  <thead>\n",
              "    <tr style=\"text-align: right;\">\n",
              "      <th></th>\n",
              "      <th>user_id</th>\n",
              "      <th>timestamp</th>\n",
              "      <th>group</th>\n",
              "      <th>landing_page</th>\n",
              "      <th>converted</th>\n",
              "    </tr>\n",
              "  </thead>\n",
              "  <tbody>\n",
              "    <tr>\n",
              "      <th>0</th>\n",
              "      <td>851104</td>\n",
              "      <td>2017-01-21 22:11:48.556739</td>\n",
              "      <td>control</td>\n",
              "      <td>old_page</td>\n",
              "      <td>0</td>\n",
              "    </tr>\n",
              "    <tr>\n",
              "      <th>1</th>\n",
              "      <td>804228</td>\n",
              "      <td>2017-01-12 08:01:45.159739</td>\n",
              "      <td>control</td>\n",
              "      <td>old_page</td>\n",
              "      <td>0</td>\n",
              "    </tr>\n",
              "    <tr>\n",
              "      <th>2</th>\n",
              "      <td>661590</td>\n",
              "      <td>2017-01-11 16:55:06.154213</td>\n",
              "      <td>treatment</td>\n",
              "      <td>new_page</td>\n",
              "      <td>0</td>\n",
              "    </tr>\n",
              "    <tr>\n",
              "      <th>3</th>\n",
              "      <td>853541</td>\n",
              "      <td>2017-01-08 18:28:03.143765</td>\n",
              "      <td>treatment</td>\n",
              "      <td>new_page</td>\n",
              "      <td>0</td>\n",
              "    </tr>\n",
              "    <tr>\n",
              "      <th>4</th>\n",
              "      <td>864975</td>\n",
              "      <td>2017-01-21 01:52:26.210827</td>\n",
              "      <td>control</td>\n",
              "      <td>old_page</td>\n",
              "      <td>1</td>\n",
              "    </tr>\n",
              "  </tbody>\n",
              "</table>\n",
              "</div>\n",
              "    <div class=\"colab-df-buttons\">\n",
              "\n",
              "  <div class=\"colab-df-container\">\n",
              "    <button class=\"colab-df-convert\" onclick=\"convertToInteractive('df-ee098206-89c3-47e5-a4e5-0eabfa907962')\"\n",
              "            title=\"Convert this dataframe to an interactive table.\"\n",
              "            style=\"display:none;\">\n",
              "\n",
              "  <svg xmlns=\"http://www.w3.org/2000/svg\" height=\"24px\" viewBox=\"0 -960 960 960\">\n",
              "    <path d=\"M120-120v-720h720v720H120Zm60-500h600v-160H180v160Zm220 220h160v-160H400v160Zm0 220h160v-160H400v160ZM180-400h160v-160H180v160Zm440 0h160v-160H620v160ZM180-180h160v-160H180v160Zm440 0h160v-160H620v160Z\"/>\n",
              "  </svg>\n",
              "    </button>\n",
              "\n",
              "  <style>\n",
              "    .colab-df-container {\n",
              "      display:flex;\n",
              "      gap: 12px;\n",
              "    }\n",
              "\n",
              "    .colab-df-convert {\n",
              "      background-color: #E8F0FE;\n",
              "      border: none;\n",
              "      border-radius: 50%;\n",
              "      cursor: pointer;\n",
              "      display: none;\n",
              "      fill: #1967D2;\n",
              "      height: 32px;\n",
              "      padding: 0 0 0 0;\n",
              "      width: 32px;\n",
              "    }\n",
              "\n",
              "    .colab-df-convert:hover {\n",
              "      background-color: #E2EBFA;\n",
              "      box-shadow: 0px 1px 2px rgba(60, 64, 67, 0.3), 0px 1px 3px 1px rgba(60, 64, 67, 0.15);\n",
              "      fill: #174EA6;\n",
              "    }\n",
              "\n",
              "    .colab-df-buttons div {\n",
              "      margin-bottom: 4px;\n",
              "    }\n",
              "\n",
              "    [theme=dark] .colab-df-convert {\n",
              "      background-color: #3B4455;\n",
              "      fill: #D2E3FC;\n",
              "    }\n",
              "\n",
              "    [theme=dark] .colab-df-convert:hover {\n",
              "      background-color: #434B5C;\n",
              "      box-shadow: 0px 1px 3px 1px rgba(0, 0, 0, 0.15);\n",
              "      filter: drop-shadow(0px 1px 2px rgba(0, 0, 0, 0.3));\n",
              "      fill: #FFFFFF;\n",
              "    }\n",
              "  </style>\n",
              "\n",
              "    <script>\n",
              "      const buttonEl =\n",
              "        document.querySelector('#df-ee098206-89c3-47e5-a4e5-0eabfa907962 button.colab-df-convert');\n",
              "      buttonEl.style.display =\n",
              "        google.colab.kernel.accessAllowed ? 'block' : 'none';\n",
              "\n",
              "      async function convertToInteractive(key) {\n",
              "        const element = document.querySelector('#df-ee098206-89c3-47e5-a4e5-0eabfa907962');\n",
              "        const dataTable =\n",
              "          await google.colab.kernel.invokeFunction('convertToInteractive',\n",
              "                                                    [key], {});\n",
              "        if (!dataTable) return;\n",
              "\n",
              "        const docLinkHtml = 'Like what you see? Visit the ' +\n",
              "          '<a target=\"_blank\" href=https://colab.research.google.com/notebooks/data_table.ipynb>data table notebook</a>'\n",
              "          + ' to learn more about interactive tables.';\n",
              "        element.innerHTML = '';\n",
              "        dataTable['output_type'] = 'display_data';\n",
              "        await google.colab.output.renderOutput(dataTable, element);\n",
              "        const docLink = document.createElement('div');\n",
              "        docLink.innerHTML = docLinkHtml;\n",
              "        element.appendChild(docLink);\n",
              "      }\n",
              "    </script>\n",
              "  </div>\n",
              "\n",
              "\n",
              "<div id=\"df-368d5920-bda0-4d6a-a415-b1bc21d2d629\">\n",
              "  <button class=\"colab-df-quickchart\" onclick=\"quickchart('df-368d5920-bda0-4d6a-a415-b1bc21d2d629')\"\n",
              "            title=\"Suggest charts\"\n",
              "            style=\"display:none;\">\n",
              "\n",
              "<svg xmlns=\"http://www.w3.org/2000/svg\" height=\"24px\"viewBox=\"0 0 24 24\"\n",
              "     width=\"24px\">\n",
              "    <g>\n",
              "        <path d=\"M19 3H5c-1.1 0-2 .9-2 2v14c0 1.1.9 2 2 2h14c1.1 0 2-.9 2-2V5c0-1.1-.9-2-2-2zM9 17H7v-7h2v7zm4 0h-2V7h2v10zm4 0h-2v-4h2v4z\"/>\n",
              "    </g>\n",
              "</svg>\n",
              "  </button>\n",
              "\n",
              "<style>\n",
              "  .colab-df-quickchart {\n",
              "      --bg-color: #E8F0FE;\n",
              "      --fill-color: #1967D2;\n",
              "      --hover-bg-color: #E2EBFA;\n",
              "      --hover-fill-color: #174EA6;\n",
              "      --disabled-fill-color: #AAA;\n",
              "      --disabled-bg-color: #DDD;\n",
              "  }\n",
              "\n",
              "  [theme=dark] .colab-df-quickchart {\n",
              "      --bg-color: #3B4455;\n",
              "      --fill-color: #D2E3FC;\n",
              "      --hover-bg-color: #434B5C;\n",
              "      --hover-fill-color: #FFFFFF;\n",
              "      --disabled-bg-color: #3B4455;\n",
              "      --disabled-fill-color: #666;\n",
              "  }\n",
              "\n",
              "  .colab-df-quickchart {\n",
              "    background-color: var(--bg-color);\n",
              "    border: none;\n",
              "    border-radius: 50%;\n",
              "    cursor: pointer;\n",
              "    display: none;\n",
              "    fill: var(--fill-color);\n",
              "    height: 32px;\n",
              "    padding: 0;\n",
              "    width: 32px;\n",
              "  }\n",
              "\n",
              "  .colab-df-quickchart:hover {\n",
              "    background-color: var(--hover-bg-color);\n",
              "    box-shadow: 0 1px 2px rgba(60, 64, 67, 0.3), 0 1px 3px 1px rgba(60, 64, 67, 0.15);\n",
              "    fill: var(--button-hover-fill-color);\n",
              "  }\n",
              "\n",
              "  .colab-df-quickchart-complete:disabled,\n",
              "  .colab-df-quickchart-complete:disabled:hover {\n",
              "    background-color: var(--disabled-bg-color);\n",
              "    fill: var(--disabled-fill-color);\n",
              "    box-shadow: none;\n",
              "  }\n",
              "\n",
              "  .colab-df-spinner {\n",
              "    border: 2px solid var(--fill-color);\n",
              "    border-color: transparent;\n",
              "    border-bottom-color: var(--fill-color);\n",
              "    animation:\n",
              "      spin 1s steps(1) infinite;\n",
              "  }\n",
              "\n",
              "  @keyframes spin {\n",
              "    0% {\n",
              "      border-color: transparent;\n",
              "      border-bottom-color: var(--fill-color);\n",
              "      border-left-color: var(--fill-color);\n",
              "    }\n",
              "    20% {\n",
              "      border-color: transparent;\n",
              "      border-left-color: var(--fill-color);\n",
              "      border-top-color: var(--fill-color);\n",
              "    }\n",
              "    30% {\n",
              "      border-color: transparent;\n",
              "      border-left-color: var(--fill-color);\n",
              "      border-top-color: var(--fill-color);\n",
              "      border-right-color: var(--fill-color);\n",
              "    }\n",
              "    40% {\n",
              "      border-color: transparent;\n",
              "      border-right-color: var(--fill-color);\n",
              "      border-top-color: var(--fill-color);\n",
              "    }\n",
              "    60% {\n",
              "      border-color: transparent;\n",
              "      border-right-color: var(--fill-color);\n",
              "    }\n",
              "    80% {\n",
              "      border-color: transparent;\n",
              "      border-right-color: var(--fill-color);\n",
              "      border-bottom-color: var(--fill-color);\n",
              "    }\n",
              "    90% {\n",
              "      border-color: transparent;\n",
              "      border-bottom-color: var(--fill-color);\n",
              "    }\n",
              "  }\n",
              "</style>\n",
              "\n",
              "  <script>\n",
              "    async function quickchart(key) {\n",
              "      const quickchartButtonEl =\n",
              "        document.querySelector('#' + key + ' button');\n",
              "      quickchartButtonEl.disabled = true;  // To prevent multiple clicks.\n",
              "      quickchartButtonEl.classList.add('colab-df-spinner');\n",
              "      try {\n",
              "        const charts = await google.colab.kernel.invokeFunction(\n",
              "            'suggestCharts', [key], {});\n",
              "      } catch (error) {\n",
              "        console.error('Error during call to suggestCharts:', error);\n",
              "      }\n",
              "      quickchartButtonEl.classList.remove('colab-df-spinner');\n",
              "      quickchartButtonEl.classList.add('colab-df-quickchart-complete');\n",
              "    }\n",
              "    (() => {\n",
              "      let quickchartButtonEl =\n",
              "        document.querySelector('#df-368d5920-bda0-4d6a-a415-b1bc21d2d629 button');\n",
              "      quickchartButtonEl.style.display =\n",
              "        google.colab.kernel.accessAllowed ? 'block' : 'none';\n",
              "    })();\n",
              "  </script>\n",
              "</div>\n",
              "\n",
              "    </div>\n",
              "  </div>\n"
            ],
            "application/vnd.google.colaboratory.intrinsic+json": {
              "type": "dataframe",
              "variable_name": "data"
            }
          },
          "metadata": {},
          "execution_count": 3
        }
      ]
    },
    {
      "cell_type": "markdown",
      "source": [
        "### Exploring the data"
      ],
      "metadata": {
        "id": "FE9lT3koTDes"
      }
    },
    {
      "cell_type": "code",
      "source": [
        "ab_test_shape =  data.shape  # Number of rows and columns\n",
        "ab_test_unique = data.nunique()  # Unique values in each column\n",
        "ab_test_missing_values = data.isna().sum()  # Checking for missing values\n",
        "ab_test_info = data.info()  # Summary of the data frame\n",
        "\n",
        "print(\"Shape of the data:\", ab_test_shape)\n",
        "print(\"\\nUnique values in each column:\")\n",
        "print(ab_test_unique)\n",
        "print(\"\\nMissing values in each column:\")\n",
        "print(ab_test_missing_values)\n",
        "print(\"\\nSummary of the data frame:\")\n",
        "print(ab_test_info)\n"
      ],
      "metadata": {
        "colab": {
          "base_uri": "https://localhost:8080/"
        },
        "id": "5BBmu7PvSAs5",
        "outputId": "34ea57a2-5f15-4fcc-a950-a07fbcc8b591"
      },
      "execution_count": null,
      "outputs": [
        {
          "output_type": "stream",
          "name": "stdout",
          "text": [
            "<class 'pandas.core.frame.DataFrame'>\n",
            "RangeIndex: 294478 entries, 0 to 294477\n",
            "Data columns (total 5 columns):\n",
            " #   Column        Non-Null Count   Dtype \n",
            "---  ------        --------------   ----- \n",
            " 0   user_id       294478 non-null  int64 \n",
            " 1   timestamp     294478 non-null  object\n",
            " 2   group         294478 non-null  object\n",
            " 3   landing_page  294478 non-null  object\n",
            " 4   converted     294478 non-null  int64 \n",
            "dtypes: int64(2), object(3)\n",
            "memory usage: 11.2+ MB\n",
            "Shape of the data: (294478, 5)\n",
            "\n",
            "Unique values in each column:\n",
            "user_id         290584\n",
            "timestamp       294478\n",
            "group                2\n",
            "landing_page         2\n",
            "converted            2\n",
            "dtype: int64\n",
            "\n",
            "Missing values in each column:\n",
            "user_id         0\n",
            "timestamp       0\n",
            "group           0\n",
            "landing_page    0\n",
            "converted       0\n",
            "dtype: int64\n",
            "\n",
            "Summary of the data frame:\n",
            "None\n"
          ]
        }
      ]
    },
    {
      "cell_type": "markdown",
      "source": [
        "* There is an issue with duplicate user_id entries, thus this shall need cleaning"
      ],
      "metadata": {
        "id": "zu2ShH3SUuyA"
      }
    },
    {
      "cell_type": "code",
      "source": [
        "ab_test_group_control = pd.crosstab(data['group'], data['landing_page'])  # Cross-tabulation of 'group' and 'landing_page'\n",
        "print(\"Cross-tabulation of 'group' and 'landing_page':\")\n",
        "print(ab_test_group_control)"
      ],
      "metadata": {
        "colab": {
          "base_uri": "https://localhost:8080/"
        },
        "id": "NTyyWaBpTmPs",
        "outputId": "73c8c788-547d-4b6d-b8e7-376c50e5ec2f"
      },
      "execution_count": null,
      "outputs": [
        {
          "output_type": "stream",
          "name": "stdout",
          "text": [
            "Cross-tabulation of 'group' and 'landing_page':\n",
            "landing_page  new_page  old_page\n",
            "group                           \n",
            "control           1928    145274\n",
            "treatment       145311      1965\n"
          ]
        }
      ]
    },
    {
      "cell_type": "markdown",
      "source": [
        "* There is an issue, group and landing_page data misalignment where users from the control group see the new page or the treatment group sees the old page."
      ],
      "metadata": {
        "id": "c6X_4dbpUA4k"
      }
    },
    {
      "cell_type": "markdown",
      "source": [
        "### Data Cleaninig\n",
        "\n",
        "* Identfied Issues:\n",
        "  * `Group` and `Landing_Page` data Misalignment. i.en users from the control group see the new page or the treatment group sees the old page. These rows need to be dropped.\n",
        "  * Duplicate `user_id` entries, the shall need to be dropped to ensure each user is only counted once."
      ],
      "metadata": {
        "id": "xV6VqpYSWC23"
      }
    },
    {
      "cell_type": "markdown",
      "source": [
        "**Dealing with data misalignment**"
      ],
      "metadata": {
        "id": "ZAdYBiZ5Ydxu"
      }
    },
    {
      "cell_type": "code",
      "source": [
        "ab_test_data = data.copy()  # Create a copy of the original data\n",
        "\n",
        "ab_test_data = ab_test_data.drop(ab_test_data[(ab_test_data['group'] == 'control') & (ab_test_data['landing_page'] == 'new_page')].index)  # Drop rows where 'group' is 'control' and 'landing_page' is 'new_page'\n",
        "ab_test_data = ab_test_data.drop(ab_test_data[(ab_test_data['group'] == 'treatment') & (ab_test_data['landing_page'] == 'old_page')].index)  # Drop rows where 'group' is 'treatment' and 'landing_page' is 'old_page'\n",
        "\n",
        "# Test changes\n",
        "ab_test_group_control = pd.crosstab(ab_test_data['group'], ab_test_data['landing_page'])  # Cross-tabulation of 'group' and 'landing_page'\n",
        "print(\"Cross-tabulation of 'group' and 'landing_page':\")\n",
        "print(ab_test_group_control)"
      ],
      "metadata": {
        "colab": {
          "base_uri": "https://localhost:8080/"
        },
        "id": "-Ko3_dKcYmhL",
        "outputId": "ebc92ae1-de76-4014-eb22-8e9f00434229"
      },
      "execution_count": null,
      "outputs": [
        {
          "output_type": "stream",
          "name": "stdout",
          "text": [
            "Cross-tabulation of 'group' and 'landing_page':\n",
            "landing_page  new_page  old_page\n",
            "group                           \n",
            "control              0    145274\n",
            "treatment       145311         0\n"
          ]
        }
      ]
    },
    {
      "cell_type": "markdown",
      "source": [
        "**Dealing with duplicate user_id entries**"
      ],
      "metadata": {
        "id": "tTb8RC3wZWeS"
      }
    },
    {
      "cell_type": "code",
      "source": [
        "ab_test_data = ab_test_data.drop_duplicates(subset='user_id', keep='first')  # Drop duplicate user_id entries\n",
        "\n",
        "# Test changes\n",
        "ab_test_unique = ab_test_data.nunique()  # Unique values in each column\n",
        "print(\"\\nUnique values in each column:\")\n",
        "print(ab_test_unique)"
      ],
      "metadata": {
        "colab": {
          "base_uri": "https://localhost:8080/"
        },
        "id": "RjhV5xuFZc4u",
        "outputId": "4fa0aec0-2350-4e48-aa3d-ecd1dee839b5"
      },
      "execution_count": null,
      "outputs": [
        {
          "output_type": "stream",
          "name": "stdout",
          "text": [
            "\n",
            "Unique values in each column:\n",
            "user_id         290584\n",
            "timestamp       290584\n",
            "group                2\n",
            "landing_page         2\n",
            "converted            2\n",
            "dtype: int64\n"
          ]
        }
      ]
    },
    {
      "cell_type": "markdown",
      "source": [
        "### [Power Analysis](https://www.spotfire.com/glossary/what-is-power-analysis) and Sample Size Calculation\n",
        "\n",
        "Note: While you can proceed with your A/B testing without conducting power analysis, it is highly recommended to do so for ensuring your **sample size** is adequate to detect meaningful differences between the groups. Power analysis helps to avoid one `failing to detect a true effect` by confirming that your sample size is large enough to yield reliable results. Without it, there’s a risk of invalid conclusions due to insufficient sample size. therefore while its not mandatory, power analysis adds statistical accuracy to the process."
      ],
      "metadata": {
        "id": "TnvpEORSbvTK"
      }
    },
    {
      "cell_type": "markdown",
      "source": [
        "**How it works**"
      ],
      "metadata": {
        "id": "O4I7sxJEh2Dc"
      }
    },
    {
      "cell_type": "markdown",
      "source": [
        "Power analysis is a statistical technique used to determine the minimum sample size needed to confidently test a hypothesis, reducing the risk of errors.\n",
        "\n",
        "It focuses on four factors:\n",
        "\n",
        "1. Effect Size: Strength of the expected outcome.\n",
        "2. Sample Size: Number of observations needed for reliable results.\n",
        "3. Significance Level: Threshold for statistical confidence (often set at 5%).\n",
        "4. Statistical Power: Probability of detecting a true effect (typically 80% to minimize errors).\n",
        "\n",
        "These elements guide the necessary sample size to avoid overspending while ensuring accurate conclusions from A/B tests.\n",
        "\n",
        "e.g: At a medium-sized online e-commerce business, the product team is testing a new product page design. The current conversion rate is 12%, and they expect a 2% improvement. Power analysis helps determine how many users need to participate in the test to confidently detect this increase and avoid underpowering the experiment."
      ],
      "metadata": {
        "id": "kVTEbAtRh8rQ"
      }
    },
    {
      "cell_type": "markdown",
      "source": [
        "Based on the example above lets determine the required sample size for our analysis"
      ],
      "metadata": {
        "id": "sd2aCpaTkMLJ"
      }
    },
    {
      "cell_type": "code",
      "source": [
        "expected_effect = sms.proportion_effectsize(0.12, 0.14)  # Calculate the expected 2% if not define you can set one base on historical data\n",
        "significance_level = 0.05  # Set the significance level\n",
        "power = 0.8  # Set the desired power level\n",
        "sample_size = sms.NormalIndPower().solve_power(expected_effect, power=power, alpha=significance_level, ratio=1)  # Calculate the required sample size\n",
        "\n",
        "# Print\n",
        "print(\"Required Sample Size:\", round(sample_size), \"observations\")"
      ],
      "metadata": {
        "colab": {
          "base_uri": "https://localhost:8080/"
        },
        "id": "jEpipaDvkXP0",
        "outputId": "b72dfcfa-f4d2-48a2-d89b-f37f6e69eacd"
      },
      "execution_count": null,
      "outputs": [
        {
          "output_type": "stream",
          "name": "stdout",
          "text": [
            "Required Sample Size: 4432 observations\n"
          ]
        }
      ]
    },
    {
      "cell_type": "markdown",
      "source": [
        "### Randomly Selecting Records from Each Group\n",
        "\n",
        "We randomly select an equal number of records from both control and treatment groups for unbiased testing based on the sample_size (4433) determined from the Power analysis"
      ],
      "metadata": {
        "id": "gplXZJrx_9Kd"
      }
    },
    {
      "cell_type": "code",
      "source": [
        "# Randomly select 4433 records from each group\n",
        "control_group = ab_test_data[ab_test_data['group'] == 'control'].sample(n=int(sample_size), random_state=42)  # Select control group records\n",
        "treatment_group = ab_test_data[ab_test_data['group'] == 'treatment'].sample(n=int(sample_size), random_state=42)  # Select treatment group records\n",
        "\n",
        "ab_test_sample = pd.concat([control_group, treatment_group], axis=0)  # Concatenate the selected records\n",
        "ab_test_sample.reset_index(drop=True, inplace=True)  # Reset the index of the combined DataFrame\n",
        "print(ab_test_sample.head())\n",
        "\n",
        "# Test changes\n",
        "ab_test_sample_group_count = ab_test_sample['group'].value_counts()  # Count of records in each group\n",
        "print(\"\\n Count of records in each group:\")\n",
        "print(ab_test_sample_group_count)\n",
        "\n"
      ],
      "metadata": {
        "colab": {
          "base_uri": "https://localhost:8080/"
        },
        "id": "GaAyVwjUAwRE",
        "outputId": "70d9f0c5-25b6-4d4b-a018-5e98bab14431"
      },
      "execution_count": null,
      "outputs": [
        {
          "output_type": "stream",
          "name": "stdout",
          "text": [
            "   user_id                   timestamp    group landing_page  converted\n",
            "0   787685  2017-01-10 09:09:40.751637  control     old_page          0\n",
            "1   729407  2017-01-13 22:27:34.228088  control     old_page          0\n",
            "2   738907  2017-01-08 07:36:16.560979  control     old_page          0\n",
            "3   901281  2017-01-14 15:35:18.212769  control     old_page          0\n",
            "4   731171  2017-01-20 17:02:53.291693  control     old_page          0\n",
            "\n",
            " Count of records in each group:\n",
            "group\n",
            "control      4432\n",
            "treatment    4432\n",
            "Name: count, dtype: int64\n"
          ]
        }
      ]
    },
    {
      "cell_type": "markdown",
      "source": [
        "### Conversion Rate Calculation\n",
        "\n",
        "The conversion rate is calculated as the average conversion (1 = converted, 0 = not) for both groups"
      ],
      "metadata": {
        "id": "7uWrey0CEBC4"
      }
    },
    {
      "cell_type": "code",
      "source": [
        "conversion_rates = ab_test_sample.groupby('group')['converted'].mean()  # Calculate the conversion rate for each group\n",
        "print(\"Conversion Rates:\")\n",
        "print(conversion_rates)"
      ],
      "metadata": {
        "colab": {
          "base_uri": "https://localhost:8080/"
        },
        "id": "m8ehWUJbEKi3",
        "outputId": "98cb8349-37ab-43d3-a109-2dc399c3e27f"
      },
      "execution_count": null,
      "outputs": [
        {
          "output_type": "stream",
          "name": "stdout",
          "text": [
            "Conversion Rates:\n",
            "group\n",
            "control      0.124323\n",
            "treatment    0.120487\n",
            "Name: converted, dtype: float64\n"
          ]
        }
      ]
    },
    {
      "cell_type": "markdown",
      "source": [
        "**Visualization of Conversion Rates**"
      ],
      "metadata": {
        "id": "I6xedcuPE9_D"
      }
    },
    {
      "cell_type": "code",
      "source": [
        "plt.figure(figsize=(4, 3))  # Set the figure size\n",
        "\n",
        "# Create a bar plot with custom colors\n",
        "sns.barplot(\n",
        "    x=conversion_rates.index,\n",
        "    y=conversion_rates.values,\n",
        "    errorbar=('ci', False),\n",
        "    palette=['#1f77b4', '#ff7f0e'],  # Define colors for each bar\n",
        "    legend=False  # Turn off the legend\n",
        ")\n",
        "\n",
        "# Set the labels and title\n",
        "plt.ylim(0, 0.17)  # Set the y-axis limits\n",
        "plt.ylabel('Conversion Rate', labelpad=10)  # Set the y-axis label\n",
        "plt.title('Conversion Rates by Group', pad=20)  # Set the title\n",
        "plt.xlabel('Group', labelpad=10)  # Set the x-axis label\n",
        "\n",
        "plt.show()"
      ],
      "metadata": {
        "colab": {
          "base_uri": "https://localhost:8080/",
          "height": 369
        },
        "id": "v6Oun8e8FAwg",
        "outputId": "3eaed63f-a52f-4af8-e915-f9f7fa350bba"
      },
      "execution_count": null,
      "outputs": [
        {
          "output_type": "display_data",
          "data": {
            "text/plain": [
              "<Figure size 400x300 with 1 Axes>"
            ],
            "image/png": "[encoded data removed]"
          },
          "metadata": {}
        }
      ]
    },
    {
      "cell_type": "markdown",
      "source": [
        "### Analyze Test Results"
      ],
      "metadata": {
        "id": "oO8BWULfIKnY"
      }
    },
    {
      "cell_type": "markdown",
      "source": [
        "#### Z-Test for Hypothesis Testing\n",
        "\n",
        "The Z-test is used to check if the difference in conversion rates between groups is statistically significant. The confidence intervals are also calculated for each group\n",
        "\n",
        "Note:\n",
        "* **Z-statistic** tells you how far the sample mean is from the population mean.\n",
        "* **P-value** helps you decide if the difference is significant. If it is lower than 0.05, you reject the null hypothesis (i.e there’s a significant difference).\n",
        "* **Confidence Intervals** show the range in which the true conversion rate for each group is likely to fall."
      ],
      "metadata": {
        "id": "EeqdbbyZIQ_U"
      }
    },
    {
      "cell_type": "code",
      "source": [
        "control_results = ab_test_sample[ab_test_sample['group'] == 'control']['converted']  # Extract conversion data for the control group\n",
        "treatment_results = ab_test_sample[ab_test_sample['group'] == 'treatment']['converted']  # Extract conversion data for the treatment\n",
        "\n",
        "# calculate the z-statistic and p-values\n",
        "successes = [control_results.sum(), treatment_results.sum()]  # Number of successes in each group\n",
        "nobs = [len(control_results), len(treatment_results)]  # Number of observations in each group\n",
        "\n",
        "print(f'successes: {successes}')\n",
        "print(f'nobs: {nobs}')\n",
        "\n",
        "z_stat, p_value = proportions_ztest(successes, nobs)  # Perform the z-test\n",
        "print(\"\\nZ-statistic:\", round(z_stat,2))\n",
        "print(\"P-value:\", round(p_value,3))\n",
        "\n",
        "(lower_control, lower_treat), (upper_control, upper_treat) = sms.proportion_confint(successes, nobs=nobs, alpha=0.05)  # Calculate confidence intervals for each group\n",
        "\n",
        "print(\"\\nConfidence Interval for Control Group:\")\n",
        "print(f\"[{lower_control:.3f}, {upper_control:.3f}]\")\n",
        "print(\"\\nConfidence Interval for Treatment Group:\")\n",
        "print(f\"[{lower_treat:.3f}, {upper_treat:.3f}]\")"
      ],
      "metadata": {
        "colab": {
          "base_uri": "https://localhost:8080/"
        },
        "id": "DuG2ca_ZIbSv",
        "outputId": "df189410-b34f-4a9a-8b0c-f2d83bab4237"
      },
      "execution_count": null,
      "outputs": [
        {
          "output_type": "stream",
          "name": "stdout",
          "text": [
            "successes: [551, 534]\n",
            "nobs: [4432, 4432]\n",
            "\n",
            "Z-statistic: 0.55\n",
            "P-value: 0.582\n",
            "\n",
            "Confidence Interval for Control Group:\n",
            "[0.115, 0.134]\n",
            "\n",
            "Confidence Interval for Treatment Group:\n",
            "[0.111, 0.130]\n"
          ]
        }
      ]
    },
    {
      "cell_type": "markdown",
      "source": [
        "### Interpretation of Results\n",
        "\n",
        "The z-statistic (0.55) and p-value (0.582) suggest that the difference in conversion rates between the old and new pages is likely due to chance, not because one page is truly better. As the z-statistic is close to zero implying that the observed difference between groups is not significant and the p-value of 0.582 suggests there's no significant difference in conversion rates between the groups.\n",
        "\n",
        "The confidence intervals that show the estimated range for each page’s conversion rate i.e\n",
        " * Old page: 11.5% to 13.4%\n",
        " * New page: 11.1% to 13.0%\n",
        "\n",
        "Since these ranges overlap, it’s likely that both pages perform about the same, meaning the new design does not lead to more conversions than the old one.\n",
        "\n"
      ],
      "metadata": {
        "id": "2JSX6x7IQwKV"
      }
    },
    {
      "cell_type": "markdown",
      "source": [
        "### Conclusion\n",
        "\n",
        "Thus since the p_value is greater than 0.05, we fail to reject the null hypothesis implying there is no difference in conversion rates between users who see the old page (control group) and those who see the new page (treatment or test group)"
      ],
      "metadata": {
        "id": "-uqhQoihQ1cS"
      }
    },
    {
      "cell_type": "markdown",
      "source": [
        "### Recommendation\n",
        "\n",
        "Based on the results, it seems that there is no significant difference between the old and new page in terms of conversions. This means that the new page did not perform any better than the old one. Thus, the recommendation would be to keep using the old page for now and if you still want to improve conversions, you may need to try other changes or designs and test again later.\n"
      ],
      "metadata": {
        "id": "ANIz-cGaTqU4"
      }
    }
  ]
}